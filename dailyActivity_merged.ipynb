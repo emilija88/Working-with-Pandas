{
  "nbformat": 4,
  "nbformat_minor": 0,
  "metadata": {
    "colab": {
      "provenance": [],
      "mount_file_id": "1P0fpqpmVl_SrPi7xAAOogCDsZrRzWX_s",
      "authorship_tag": "ABX9TyO7qFANxslHHvFGcQw7Mhce",
      "include_colab_link": true
    },
    "kernelspec": {
      "name": "python3",
      "display_name": "Python 3"
    },
    "language_info": {
      "name": "python"
    }
  },
  "cells": [
    {
      "cell_type": "markdown",
      "metadata": {
        "id": "view-in-github",
        "colab_type": "text"
      },
      "source": [
        "<a href=\"https://colab.research.google.com/github/emilija88/Working-with-Pandas/blob/main/dailyActivity_merged.ipynb\" target=\"_parent\"><img src=\"https://colab.research.google.com/assets/colab-badge.svg\" alt=\"Open In Colab\"/></a>"
      ]
    },
    {
      "cell_type": "code",
      "source": [
        "import numpy as np\n",
        "import pandas as pd\n",
        "import seaborn as sns\n",
        "import matplotlib.pyplot as plt\n",
        "from matplotlib.pyplot import subplot\n",
        "import warnings\n",
        "warnings.filterwarnings(\"ignore\")"
      ],
      "metadata": {
        "id": "U1l0y2gAx0pw"
      },
      "execution_count": 1,
      "outputs": []
    },
    {
      "cell_type": "markdown",
      "source": [
        "# Прочитајте го датасетот.\n",
        "# Разгледајте ги првите 10 редови и последните 10 редови. Извадете информации за податоците и разгледајте што означуваат самите податоци и за што даваат информации.\n"
      ],
      "metadata": {
        "id": "RY9LMhs4vaL2"
      }
    },
    {
      "cell_type": "code",
      "execution_count": 2,
      "metadata": {
        "colab": {
          "base_uri": "https://localhost:8080/",
          "height": 427
        },
        "id": "71Ivr0q0xrTS",
        "outputId": "4288c233-3c57-4a61-ee32-e6e861cd3e01"
      },
      "outputs": [
        {
          "output_type": "execute_result",
          "data": {
            "text/plain": [
              "           Id ActivityDate  TotalSteps  TotalDistance  TrackerDistance  \\\n",
              "0  1503960366    4/12/2016       13162           8.50             8.50   \n",
              "1  1503960366    4/13/2016       10735           6.97             6.97   \n",
              "2  1503960366    4/14/2016       10460           6.74             6.74   \n",
              "3  1503960366    4/15/2016        9762           6.28             6.28   \n",
              "4  1503960366    4/16/2016       12669           8.16             8.16   \n",
              "5  1503960366    4/17/2016        9705           6.48             6.48   \n",
              "6  1503960366    4/18/2016       13019           8.59             8.59   \n",
              "7  1503960366    4/19/2016       15506           9.88             9.88   \n",
              "8  1503960366    4/20/2016       10544           6.68             6.68   \n",
              "9  1503960366    4/21/2016        9819           6.34             6.34   \n",
              "\n",
              "   LoggedActivitiesDistance  VeryActiveDistance  ModeratelyActiveDistance  \\\n",
              "0                       0.0                1.88                      0.55   \n",
              "1                       0.0                1.57                      0.69   \n",
              "2                       0.0                2.44                      0.40   \n",
              "3                       0.0                2.14                      1.26   \n",
              "4                       0.0                2.71                      0.41   \n",
              "5                       0.0                3.19                      0.78   \n",
              "6                       0.0                3.25                      0.64   \n",
              "7                       0.0                3.53                      1.32   \n",
              "8                       0.0                1.96                      0.48   \n",
              "9                       0.0                1.34                      0.35   \n",
              "\n",
              "   LightActiveDistance  SedentaryActiveDistance  VeryActiveMinutes  \\\n",
              "0                 6.06                      0.0                 25   \n",
              "1                 4.71                      0.0                 21   \n",
              "2                 3.91                      0.0                 30   \n",
              "3                 2.83                      0.0                 29   \n",
              "4                 5.04                      0.0                 36   \n",
              "5                 2.51                      0.0                 38   \n",
              "6                 4.71                      0.0                 42   \n",
              "7                 5.03                      0.0                 50   \n",
              "8                 4.24                      0.0                 28   \n",
              "9                 4.65                      0.0                 19   \n",
              "\n",
              "   FairlyActiveMinutes  LightlyActiveMinutes  SedentaryMinutes  Calories  \n",
              "0                   13                   328               728      1985  \n",
              "1                   19                   217               776      1797  \n",
              "2                   11                   181              1218      1776  \n",
              "3                   34                   209               726      1745  \n",
              "4                   10                   221               773      1863  \n",
              "5                   20                   164               539      1728  \n",
              "6                   16                   233              1149      1921  \n",
              "7                   31                   264               775      2035  \n",
              "8                   12                   205               818      1786  \n",
              "9                    8                   211               838      1775  "
            ],
            "text/html": [
              "\n",
              "  <div id=\"df-51889b3b-8ce3-41b8-846a-be3307d4f88f\">\n",
              "    <div class=\"colab-df-container\">\n",
              "      <div>\n",
              "<style scoped>\n",
              "    .dataframe tbody tr th:only-of-type {\n",
              "        vertical-align: middle;\n",
              "    }\n",
              "\n",
              "    .dataframe tbody tr th {\n",
              "        vertical-align: top;\n",
              "    }\n",
              "\n",
              "    .dataframe thead th {\n",
              "        text-align: right;\n",
              "    }\n",
              "</style>\n",
              "<table border=\"1\" class=\"dataframe\">\n",
              "  <thead>\n",
              "    <tr style=\"text-align: right;\">\n",
              "      <th></th>\n",
              "      <th>Id</th>\n",
              "      <th>ActivityDate</th>\n",
              "      <th>TotalSteps</th>\n",
              "      <th>TotalDistance</th>\n",
              "      <th>TrackerDistance</th>\n",
              "      <th>LoggedActivitiesDistance</th>\n",
              "      <th>VeryActiveDistance</th>\n",
              "      <th>ModeratelyActiveDistance</th>\n",
              "      <th>LightActiveDistance</th>\n",
              "      <th>SedentaryActiveDistance</th>\n",
              "      <th>VeryActiveMinutes</th>\n",
              "      <th>FairlyActiveMinutes</th>\n",
              "      <th>LightlyActiveMinutes</th>\n",
              "      <th>SedentaryMinutes</th>\n",
              "      <th>Calories</th>\n",
              "    </tr>\n",
              "  </thead>\n",
              "  <tbody>\n",
              "    <tr>\n",
              "      <th>0</th>\n",
              "      <td>1503960366</td>\n",
              "      <td>4/12/2016</td>\n",
              "      <td>13162</td>\n",
              "      <td>8.50</td>\n",
              "      <td>8.50</td>\n",
              "      <td>0.0</td>\n",
              "      <td>1.88</td>\n",
              "      <td>0.55</td>\n",
              "      <td>6.06</td>\n",
              "      <td>0.0</td>\n",
              "      <td>25</td>\n",
              "      <td>13</td>\n",
              "      <td>328</td>\n",
              "      <td>728</td>\n",
              "      <td>1985</td>\n",
              "    </tr>\n",
              "    <tr>\n",
              "      <th>1</th>\n",
              "      <td>1503960366</td>\n",
              "      <td>4/13/2016</td>\n",
              "      <td>10735</td>\n",
              "      <td>6.97</td>\n",
              "      <td>6.97</td>\n",
              "      <td>0.0</td>\n",
              "      <td>1.57</td>\n",
              "      <td>0.69</td>\n",
              "      <td>4.71</td>\n",
              "      <td>0.0</td>\n",
              "      <td>21</td>\n",
              "      <td>19</td>\n",
              "      <td>217</td>\n",
              "      <td>776</td>\n",
              "      <td>1797</td>\n",
              "    </tr>\n",
              "    <tr>\n",
              "      <th>2</th>\n",
              "      <td>1503960366</td>\n",
              "      <td>4/14/2016</td>\n",
              "      <td>10460</td>\n",
              "      <td>6.74</td>\n",
              "      <td>6.74</td>\n",
              "      <td>0.0</td>\n",
              "      <td>2.44</td>\n",
              "      <td>0.40</td>\n",
              "      <td>3.91</td>\n",
              "      <td>0.0</td>\n",
              "      <td>30</td>\n",
              "      <td>11</td>\n",
              "      <td>181</td>\n",
              "      <td>1218</td>\n",
              "      <td>1776</td>\n",
              "    </tr>\n",
              "    <tr>\n",
              "      <th>3</th>\n",
              "      <td>1503960366</td>\n",
              "      <td>4/15/2016</td>\n",
              "      <td>9762</td>\n",
              "      <td>6.28</td>\n",
              "      <td>6.28</td>\n",
              "      <td>0.0</td>\n",
              "      <td>2.14</td>\n",
              "      <td>1.26</td>\n",
              "      <td>2.83</td>\n",
              "      <td>0.0</td>\n",
              "      <td>29</td>\n",
              "      <td>34</td>\n",
              "      <td>209</td>\n",
              "      <td>726</td>\n",
              "      <td>1745</td>\n",
              "    </tr>\n",
              "    <tr>\n",
              "      <th>4</th>\n",
              "      <td>1503960366</td>\n",
              "      <td>4/16/2016</td>\n",
              "      <td>12669</td>\n",
              "      <td>8.16</td>\n",
              "      <td>8.16</td>\n",
              "      <td>0.0</td>\n",
              "      <td>2.71</td>\n",
              "      <td>0.41</td>\n",
              "      <td>5.04</td>\n",
              "      <td>0.0</td>\n",
              "      <td>36</td>\n",
              "      <td>10</td>\n",
              "      <td>221</td>\n",
              "      <td>773</td>\n",
              "      <td>1863</td>\n",
              "    </tr>\n",
              "    <tr>\n",
              "      <th>5</th>\n",
              "      <td>1503960366</td>\n",
              "      <td>4/17/2016</td>\n",
              "      <td>9705</td>\n",
              "      <td>6.48</td>\n",
              "      <td>6.48</td>\n",
              "      <td>0.0</td>\n",
              "      <td>3.19</td>\n",
              "      <td>0.78</td>\n",
              "      <td>2.51</td>\n",
              "      <td>0.0</td>\n",
              "      <td>38</td>\n",
              "      <td>20</td>\n",
              "      <td>164</td>\n",
              "      <td>539</td>\n",
              "      <td>1728</td>\n",
              "    </tr>\n",
              "    <tr>\n",
              "      <th>6</th>\n",
              "      <td>1503960366</td>\n",
              "      <td>4/18/2016</td>\n",
              "      <td>13019</td>\n",
              "      <td>8.59</td>\n",
              "      <td>8.59</td>\n",
              "      <td>0.0</td>\n",
              "      <td>3.25</td>\n",
              "      <td>0.64</td>\n",
              "      <td>4.71</td>\n",
              "      <td>0.0</td>\n",
              "      <td>42</td>\n",
              "      <td>16</td>\n",
              "      <td>233</td>\n",
              "      <td>1149</td>\n",
              "      <td>1921</td>\n",
              "    </tr>\n",
              "    <tr>\n",
              "      <th>7</th>\n",
              "      <td>1503960366</td>\n",
              "      <td>4/19/2016</td>\n",
              "      <td>15506</td>\n",
              "      <td>9.88</td>\n",
              "      <td>9.88</td>\n",
              "      <td>0.0</td>\n",
              "      <td>3.53</td>\n",
              "      <td>1.32</td>\n",
              "      <td>5.03</td>\n",
              "      <td>0.0</td>\n",
              "      <td>50</td>\n",
              "      <td>31</td>\n",
              "      <td>264</td>\n",
              "      <td>775</td>\n",
              "      <td>2035</td>\n",
              "    </tr>\n",
              "    <tr>\n",
              "      <th>8</th>\n",
              "      <td>1503960366</td>\n",
              "      <td>4/20/2016</td>\n",
              "      <td>10544</td>\n",
              "      <td>6.68</td>\n",
              "      <td>6.68</td>\n",
              "      <td>0.0</td>\n",
              "      <td>1.96</td>\n",
              "      <td>0.48</td>\n",
              "      <td>4.24</td>\n",
              "      <td>0.0</td>\n",
              "      <td>28</td>\n",
              "      <td>12</td>\n",
              "      <td>205</td>\n",
              "      <td>818</td>\n",
              "      <td>1786</td>\n",
              "    </tr>\n",
              "    <tr>\n",
              "      <th>9</th>\n",
              "      <td>1503960366</td>\n",
              "      <td>4/21/2016</td>\n",
              "      <td>9819</td>\n",
              "      <td>6.34</td>\n",
              "      <td>6.34</td>\n",
              "      <td>0.0</td>\n",
              "      <td>1.34</td>\n",
              "      <td>0.35</td>\n",
              "      <td>4.65</td>\n",
              "      <td>0.0</td>\n",
              "      <td>19</td>\n",
              "      <td>8</td>\n",
              "      <td>211</td>\n",
              "      <td>838</td>\n",
              "      <td>1775</td>\n",
              "    </tr>\n",
              "  </tbody>\n",
              "</table>\n",
              "</div>\n",
              "      <button class=\"colab-df-convert\" onclick=\"convertToInteractive('df-51889b3b-8ce3-41b8-846a-be3307d4f88f')\"\n",
              "              title=\"Convert this dataframe to an interactive table.\"\n",
              "              style=\"display:none;\">\n",
              "        \n",
              "  <svg xmlns=\"http://www.w3.org/2000/svg\" height=\"24px\"viewBox=\"0 0 24 24\"\n",
              "       width=\"24px\">\n",
              "    <path d=\"M0 0h24v24H0V0z\" fill=\"none\"/>\n",
              "    <path d=\"M18.56 5.44l.94 2.06.94-2.06 2.06-.94-2.06-.94-.94-2.06-.94 2.06-2.06.94zm-11 1L8.5 8.5l.94-2.06 2.06-.94-2.06-.94L8.5 2.5l-.94 2.06-2.06.94zm10 10l.94 2.06.94-2.06 2.06-.94-2.06-.94-.94-2.06-.94 2.06-2.06.94z\"/><path d=\"M17.41 7.96l-1.37-1.37c-.4-.4-.92-.59-1.43-.59-.52 0-1.04.2-1.43.59L10.3 9.45l-7.72 7.72c-.78.78-.78 2.05 0 2.83L4 21.41c.39.39.9.59 1.41.59.51 0 1.02-.2 1.41-.59l7.78-7.78 2.81-2.81c.8-.78.8-2.07 0-2.86zM5.41 20L4 18.59l7.72-7.72 1.47 1.35L5.41 20z\"/>\n",
              "  </svg>\n",
              "      </button>\n",
              "      \n",
              "  <style>\n",
              "    .colab-df-container {\n",
              "      display:flex;\n",
              "      flex-wrap:wrap;\n",
              "      gap: 12px;\n",
              "    }\n",
              "\n",
              "    .colab-df-convert {\n",
              "      background-color: #E8F0FE;\n",
              "      border: none;\n",
              "      border-radius: 50%;\n",
              "      cursor: pointer;\n",
              "      display: none;\n",
              "      fill: #1967D2;\n",
              "      height: 32px;\n",
              "      padding: 0 0 0 0;\n",
              "      width: 32px;\n",
              "    }\n",
              "\n",
              "    .colab-df-convert:hover {\n",
              "      background-color: #E2EBFA;\n",
              "      box-shadow: 0px 1px 2px rgba(60, 64, 67, 0.3), 0px 1px 3px 1px rgba(60, 64, 67, 0.15);\n",
              "      fill: #174EA6;\n",
              "    }\n",
              "\n",
              "    [theme=dark] .colab-df-convert {\n",
              "      background-color: #3B4455;\n",
              "      fill: #D2E3FC;\n",
              "    }\n",
              "\n",
              "    [theme=dark] .colab-df-convert:hover {\n",
              "      background-color: #434B5C;\n",
              "      box-shadow: 0px 1px 3px 1px rgba(0, 0, 0, 0.15);\n",
              "      filter: drop-shadow(0px 1px 2px rgba(0, 0, 0, 0.3));\n",
              "      fill: #FFFFFF;\n",
              "    }\n",
              "  </style>\n",
              "\n",
              "      <script>\n",
              "        const buttonEl =\n",
              "          document.querySelector('#df-51889b3b-8ce3-41b8-846a-be3307d4f88f button.colab-df-convert');\n",
              "        buttonEl.style.display =\n",
              "          google.colab.kernel.accessAllowed ? 'block' : 'none';\n",
              "\n",
              "        async function convertToInteractive(key) {\n",
              "          const element = document.querySelector('#df-51889b3b-8ce3-41b8-846a-be3307d4f88f');\n",
              "          const dataTable =\n",
              "            await google.colab.kernel.invokeFunction('convertToInteractive',\n",
              "                                                     [key], {});\n",
              "          if (!dataTable) return;\n",
              "\n",
              "          const docLinkHtml = 'Like what you see? Visit the ' +\n",
              "            '<a target=\"_blank\" href=https://colab.research.google.com/notebooks/data_table.ipynb>data table notebook</a>'\n",
              "            + ' to learn more about interactive tables.';\n",
              "          element.innerHTML = '';\n",
              "          dataTable['output_type'] = 'display_data';\n",
              "          await google.colab.output.renderOutput(dataTable, element);\n",
              "          const docLink = document.createElement('div');\n",
              "          docLink.innerHTML = docLinkHtml;\n",
              "          element.appendChild(docLink);\n",
              "        }\n",
              "      </script>\n",
              "    </div>\n",
              "  </div>\n",
              "  "
            ]
          },
          "metadata": {},
          "execution_count": 2
        }
      ],
      "source": [
        "data=pd.read_csv('https://raw.githubusercontent.com/amankharwal/Website-data/master/dailyActivity_merged.csv')\n",
        "data.head(10)"
      ]
    },
    {
      "cell_type": "code",
      "source": [
        "data.tail(10)"
      ],
      "metadata": {
        "colab": {
          "base_uri": "https://localhost:8080/",
          "height": 427
        },
        "id": "HdO-Hq7nx9Yi",
        "outputId": "db33af02-fdcf-4ce7-ada2-c2e3fab09a15"
      },
      "execution_count": 3,
      "outputs": [
        {
          "output_type": "execute_result",
          "data": {
            "text/plain": [
              "             Id ActivityDate  TotalSteps  TotalDistance  TrackerDistance  \\\n",
              "930  8877689391     5/3/2016       10818       8.210000         8.210000   \n",
              "931  8877689391     5/4/2016       18193      16.299999        16.299999   \n",
              "932  8877689391     5/5/2016       14055      10.670000        10.670000   \n",
              "933  8877689391     5/6/2016       21727      19.340000        19.340000   \n",
              "934  8877689391     5/7/2016       12332       8.130000         8.130000   \n",
              "935  8877689391     5/8/2016       10686       8.110000         8.110000   \n",
              "936  8877689391     5/9/2016       20226      18.250000        18.250000   \n",
              "937  8877689391    5/10/2016       10733       8.150000         8.150000   \n",
              "938  8877689391    5/11/2016       21420      19.559999        19.559999   \n",
              "939  8877689391    5/12/2016        8064       6.120000         6.120000   \n",
              "\n",
              "     LoggedActivitiesDistance  VeryActiveDistance  ModeratelyActiveDistance  \\\n",
              "930                       0.0                1.39                      0.10   \n",
              "931                       0.0               10.42                      0.31   \n",
              "932                       0.0                5.46                      0.82   \n",
              "933                       0.0               12.79                      0.29   \n",
              "934                       0.0                0.08                      0.96   \n",
              "935                       0.0                1.08                      0.20   \n",
              "936                       0.0               11.10                      0.80   \n",
              "937                       0.0                1.35                      0.46   \n",
              "938                       0.0               13.22                      0.41   \n",
              "939                       0.0                1.82                      0.04   \n",
              "\n",
              "     LightActiveDistance  SedentaryActiveDistance  VeryActiveMinutes  \\\n",
              "930                 6.67                     0.01                 19   \n",
              "931                 5.53                     0.00                 66   \n",
              "932                 4.37                     0.00                 67   \n",
              "933                 6.16                     0.00                 96   \n",
              "934                 6.99                     0.00                105   \n",
              "935                 6.80                     0.00                 17   \n",
              "936                 6.24                     0.05                 73   \n",
              "937                 6.28                     0.00                 18   \n",
              "938                 5.89                     0.00                 88   \n",
              "939                 4.25                     0.00                 23   \n",
              "\n",
              "     FairlyActiveMinutes  LightlyActiveMinutes  SedentaryMinutes  Calories  \n",
              "930                    3                   229              1189      2817  \n",
              "931                    8                   212              1154      3477  \n",
              "932                   15                   188              1170      3052  \n",
              "933                   17                   232              1095      4015  \n",
              "934                   28                   271              1036      4142  \n",
              "935                    4                   245              1174      2847  \n",
              "936                   19                   217              1131      3710  \n",
              "937                   11                   224              1187      2832  \n",
              "938                   12                   213              1127      3832  \n",
              "939                    1                   137               770      1849  "
            ],
            "text/html": [
              "\n",
              "  <div id=\"df-f5de2c54-a9a1-4319-b389-740b60a28f01\">\n",
              "    <div class=\"colab-df-container\">\n",
              "      <div>\n",
              "<style scoped>\n",
              "    .dataframe tbody tr th:only-of-type {\n",
              "        vertical-align: middle;\n",
              "    }\n",
              "\n",
              "    .dataframe tbody tr th {\n",
              "        vertical-align: top;\n",
              "    }\n",
              "\n",
              "    .dataframe thead th {\n",
              "        text-align: right;\n",
              "    }\n",
              "</style>\n",
              "<table border=\"1\" class=\"dataframe\">\n",
              "  <thead>\n",
              "    <tr style=\"text-align: right;\">\n",
              "      <th></th>\n",
              "      <th>Id</th>\n",
              "      <th>ActivityDate</th>\n",
              "      <th>TotalSteps</th>\n",
              "      <th>TotalDistance</th>\n",
              "      <th>TrackerDistance</th>\n",
              "      <th>LoggedActivitiesDistance</th>\n",
              "      <th>VeryActiveDistance</th>\n",
              "      <th>ModeratelyActiveDistance</th>\n",
              "      <th>LightActiveDistance</th>\n",
              "      <th>SedentaryActiveDistance</th>\n",
              "      <th>VeryActiveMinutes</th>\n",
              "      <th>FairlyActiveMinutes</th>\n",
              "      <th>LightlyActiveMinutes</th>\n",
              "      <th>SedentaryMinutes</th>\n",
              "      <th>Calories</th>\n",
              "    </tr>\n",
              "  </thead>\n",
              "  <tbody>\n",
              "    <tr>\n",
              "      <th>930</th>\n",
              "      <td>8877689391</td>\n",
              "      <td>5/3/2016</td>\n",
              "      <td>10818</td>\n",
              "      <td>8.210000</td>\n",
              "      <td>8.210000</td>\n",
              "      <td>0.0</td>\n",
              "      <td>1.39</td>\n",
              "      <td>0.10</td>\n",
              "      <td>6.67</td>\n",
              "      <td>0.01</td>\n",
              "      <td>19</td>\n",
              "      <td>3</td>\n",
              "      <td>229</td>\n",
              "      <td>1189</td>\n",
              "      <td>2817</td>\n",
              "    </tr>\n",
              "    <tr>\n",
              "      <th>931</th>\n",
              "      <td>8877689391</td>\n",
              "      <td>5/4/2016</td>\n",
              "      <td>18193</td>\n",
              "      <td>16.299999</td>\n",
              "      <td>16.299999</td>\n",
              "      <td>0.0</td>\n",
              "      <td>10.42</td>\n",
              "      <td>0.31</td>\n",
              "      <td>5.53</td>\n",
              "      <td>0.00</td>\n",
              "      <td>66</td>\n",
              "      <td>8</td>\n",
              "      <td>212</td>\n",
              "      <td>1154</td>\n",
              "      <td>3477</td>\n",
              "    </tr>\n",
              "    <tr>\n",
              "      <th>932</th>\n",
              "      <td>8877689391</td>\n",
              "      <td>5/5/2016</td>\n",
              "      <td>14055</td>\n",
              "      <td>10.670000</td>\n",
              "      <td>10.670000</td>\n",
              "      <td>0.0</td>\n",
              "      <td>5.46</td>\n",
              "      <td>0.82</td>\n",
              "      <td>4.37</td>\n",
              "      <td>0.00</td>\n",
              "      <td>67</td>\n",
              "      <td>15</td>\n",
              "      <td>188</td>\n",
              "      <td>1170</td>\n",
              "      <td>3052</td>\n",
              "    </tr>\n",
              "    <tr>\n",
              "      <th>933</th>\n",
              "      <td>8877689391</td>\n",
              "      <td>5/6/2016</td>\n",
              "      <td>21727</td>\n",
              "      <td>19.340000</td>\n",
              "      <td>19.340000</td>\n",
              "      <td>0.0</td>\n",
              "      <td>12.79</td>\n",
              "      <td>0.29</td>\n",
              "      <td>6.16</td>\n",
              "      <td>0.00</td>\n",
              "      <td>96</td>\n",
              "      <td>17</td>\n",
              "      <td>232</td>\n",
              "      <td>1095</td>\n",
              "      <td>4015</td>\n",
              "    </tr>\n",
              "    <tr>\n",
              "      <th>934</th>\n",
              "      <td>8877689391</td>\n",
              "      <td>5/7/2016</td>\n",
              "      <td>12332</td>\n",
              "      <td>8.130000</td>\n",
              "      <td>8.130000</td>\n",
              "      <td>0.0</td>\n",
              "      <td>0.08</td>\n",
              "      <td>0.96</td>\n",
              "      <td>6.99</td>\n",
              "      <td>0.00</td>\n",
              "      <td>105</td>\n",
              "      <td>28</td>\n",
              "      <td>271</td>\n",
              "      <td>1036</td>\n",
              "      <td>4142</td>\n",
              "    </tr>\n",
              "    <tr>\n",
              "      <th>935</th>\n",
              "      <td>8877689391</td>\n",
              "      <td>5/8/2016</td>\n",
              "      <td>10686</td>\n",
              "      <td>8.110000</td>\n",
              "      <td>8.110000</td>\n",
              "      <td>0.0</td>\n",
              "      <td>1.08</td>\n",
              "      <td>0.20</td>\n",
              "      <td>6.80</td>\n",
              "      <td>0.00</td>\n",
              "      <td>17</td>\n",
              "      <td>4</td>\n",
              "      <td>245</td>\n",
              "      <td>1174</td>\n",
              "      <td>2847</td>\n",
              "    </tr>\n",
              "    <tr>\n",
              "      <th>936</th>\n",
              "      <td>8877689391</td>\n",
              "      <td>5/9/2016</td>\n",
              "      <td>20226</td>\n",
              "      <td>18.250000</td>\n",
              "      <td>18.250000</td>\n",
              "      <td>0.0</td>\n",
              "      <td>11.10</td>\n",
              "      <td>0.80</td>\n",
              "      <td>6.24</td>\n",
              "      <td>0.05</td>\n",
              "      <td>73</td>\n",
              "      <td>19</td>\n",
              "      <td>217</td>\n",
              "      <td>1131</td>\n",
              "      <td>3710</td>\n",
              "    </tr>\n",
              "    <tr>\n",
              "      <th>937</th>\n",
              "      <td>8877689391</td>\n",
              "      <td>5/10/2016</td>\n",
              "      <td>10733</td>\n",
              "      <td>8.150000</td>\n",
              "      <td>8.150000</td>\n",
              "      <td>0.0</td>\n",
              "      <td>1.35</td>\n",
              "      <td>0.46</td>\n",
              "      <td>6.28</td>\n",
              "      <td>0.00</td>\n",
              "      <td>18</td>\n",
              "      <td>11</td>\n",
              "      <td>224</td>\n",
              "      <td>1187</td>\n",
              "      <td>2832</td>\n",
              "    </tr>\n",
              "    <tr>\n",
              "      <th>938</th>\n",
              "      <td>8877689391</td>\n",
              "      <td>5/11/2016</td>\n",
              "      <td>21420</td>\n",
              "      <td>19.559999</td>\n",
              "      <td>19.559999</td>\n",
              "      <td>0.0</td>\n",
              "      <td>13.22</td>\n",
              "      <td>0.41</td>\n",
              "      <td>5.89</td>\n",
              "      <td>0.00</td>\n",
              "      <td>88</td>\n",
              "      <td>12</td>\n",
              "      <td>213</td>\n",
              "      <td>1127</td>\n",
              "      <td>3832</td>\n",
              "    </tr>\n",
              "    <tr>\n",
              "      <th>939</th>\n",
              "      <td>8877689391</td>\n",
              "      <td>5/12/2016</td>\n",
              "      <td>8064</td>\n",
              "      <td>6.120000</td>\n",
              "      <td>6.120000</td>\n",
              "      <td>0.0</td>\n",
              "      <td>1.82</td>\n",
              "      <td>0.04</td>\n",
              "      <td>4.25</td>\n",
              "      <td>0.00</td>\n",
              "      <td>23</td>\n",
              "      <td>1</td>\n",
              "      <td>137</td>\n",
              "      <td>770</td>\n",
              "      <td>1849</td>\n",
              "    </tr>\n",
              "  </tbody>\n",
              "</table>\n",
              "</div>\n",
              "      <button class=\"colab-df-convert\" onclick=\"convertToInteractive('df-f5de2c54-a9a1-4319-b389-740b60a28f01')\"\n",
              "              title=\"Convert this dataframe to an interactive table.\"\n",
              "              style=\"display:none;\">\n",
              "        \n",
              "  <svg xmlns=\"http://www.w3.org/2000/svg\" height=\"24px\"viewBox=\"0 0 24 24\"\n",
              "       width=\"24px\">\n",
              "    <path d=\"M0 0h24v24H0V0z\" fill=\"none\"/>\n",
              "    <path d=\"M18.56 5.44l.94 2.06.94-2.06 2.06-.94-2.06-.94-.94-2.06-.94 2.06-2.06.94zm-11 1L8.5 8.5l.94-2.06 2.06-.94-2.06-.94L8.5 2.5l-.94 2.06-2.06.94zm10 10l.94 2.06.94-2.06 2.06-.94-2.06-.94-.94-2.06-.94 2.06-2.06.94z\"/><path d=\"M17.41 7.96l-1.37-1.37c-.4-.4-.92-.59-1.43-.59-.52 0-1.04.2-1.43.59L10.3 9.45l-7.72 7.72c-.78.78-.78 2.05 0 2.83L4 21.41c.39.39.9.59 1.41.59.51 0 1.02-.2 1.41-.59l7.78-7.78 2.81-2.81c.8-.78.8-2.07 0-2.86zM5.41 20L4 18.59l7.72-7.72 1.47 1.35L5.41 20z\"/>\n",
              "  </svg>\n",
              "      </button>\n",
              "      \n",
              "  <style>\n",
              "    .colab-df-container {\n",
              "      display:flex;\n",
              "      flex-wrap:wrap;\n",
              "      gap: 12px;\n",
              "    }\n",
              "\n",
              "    .colab-df-convert {\n",
              "      background-color: #E8F0FE;\n",
              "      border: none;\n",
              "      border-radius: 50%;\n",
              "      cursor: pointer;\n",
              "      display: none;\n",
              "      fill: #1967D2;\n",
              "      height: 32px;\n",
              "      padding: 0 0 0 0;\n",
              "      width: 32px;\n",
              "    }\n",
              "\n",
              "    .colab-df-convert:hover {\n",
              "      background-color: #E2EBFA;\n",
              "      box-shadow: 0px 1px 2px rgba(60, 64, 67, 0.3), 0px 1px 3px 1px rgba(60, 64, 67, 0.15);\n",
              "      fill: #174EA6;\n",
              "    }\n",
              "\n",
              "    [theme=dark] .colab-df-convert {\n",
              "      background-color: #3B4455;\n",
              "      fill: #D2E3FC;\n",
              "    }\n",
              "\n",
              "    [theme=dark] .colab-df-convert:hover {\n",
              "      background-color: #434B5C;\n",
              "      box-shadow: 0px 1px 3px 1px rgba(0, 0, 0, 0.15);\n",
              "      filter: drop-shadow(0px 1px 2px rgba(0, 0, 0, 0.3));\n",
              "      fill: #FFFFFF;\n",
              "    }\n",
              "  </style>\n",
              "\n",
              "      <script>\n",
              "        const buttonEl =\n",
              "          document.querySelector('#df-f5de2c54-a9a1-4319-b389-740b60a28f01 button.colab-df-convert');\n",
              "        buttonEl.style.display =\n",
              "          google.colab.kernel.accessAllowed ? 'block' : 'none';\n",
              "\n",
              "        async function convertToInteractive(key) {\n",
              "          const element = document.querySelector('#df-f5de2c54-a9a1-4319-b389-740b60a28f01');\n",
              "          const dataTable =\n",
              "            await google.colab.kernel.invokeFunction('convertToInteractive',\n",
              "                                                     [key], {});\n",
              "          if (!dataTable) return;\n",
              "\n",
              "          const docLinkHtml = 'Like what you see? Visit the ' +\n",
              "            '<a target=\"_blank\" href=https://colab.research.google.com/notebooks/data_table.ipynb>data table notebook</a>'\n",
              "            + ' to learn more about interactive tables.';\n",
              "          element.innerHTML = '';\n",
              "          dataTable['output_type'] = 'display_data';\n",
              "          await google.colab.output.renderOutput(dataTable, element);\n",
              "          const docLink = document.createElement('div');\n",
              "          docLink.innerHTML = docLinkHtml;\n",
              "          element.appendChild(docLink);\n",
              "        }\n",
              "      </script>\n",
              "    </div>\n",
              "  </div>\n",
              "  "
            ]
          },
          "metadata": {},
          "execution_count": 3
        }
      ]
    },
    {
      "cell_type": "code",
      "source": [
        "data.columns"
      ],
      "metadata": {
        "colab": {
          "base_uri": "https://localhost:8080/"
        },
        "id": "X9DGCp1RyECY",
        "outputId": "f78f3534-4214-49f4-a50f-249c705e7ae7"
      },
      "execution_count": 4,
      "outputs": [
        {
          "output_type": "execute_result",
          "data": {
            "text/plain": [
              "Index(['Id', 'ActivityDate', 'TotalSteps', 'TotalDistance', 'TrackerDistance',\n",
              "       'LoggedActivitiesDistance', 'VeryActiveDistance',\n",
              "       'ModeratelyActiveDistance', 'LightActiveDistance',\n",
              "       'SedentaryActiveDistance', 'VeryActiveMinutes', 'FairlyActiveMinutes',\n",
              "       'LightlyActiveMinutes', 'SedentaryMinutes', 'Calories'],\n",
              "      dtype='object')"
            ]
          },
          "metadata": {},
          "execution_count": 4
        }
      ]
    },
    {
      "cell_type": "code",
      "source": [
        "data.info()"
      ],
      "metadata": {
        "colab": {
          "base_uri": "https://localhost:8080/"
        },
        "id": "cnEOqvY_yCQh",
        "outputId": "b38d55f1-ad0e-45af-d490-a2c9ef033c76"
      },
      "execution_count": 5,
      "outputs": [
        {
          "output_type": "stream",
          "name": "stdout",
          "text": [
            "<class 'pandas.core.frame.DataFrame'>\n",
            "RangeIndex: 940 entries, 0 to 939\n",
            "Data columns (total 15 columns):\n",
            " #   Column                    Non-Null Count  Dtype  \n",
            "---  ------                    --------------  -----  \n",
            " 0   Id                        940 non-null    int64  \n",
            " 1   ActivityDate              940 non-null    object \n",
            " 2   TotalSteps                940 non-null    int64  \n",
            " 3   TotalDistance             940 non-null    float64\n",
            " 4   TrackerDistance           940 non-null    float64\n",
            " 5   LoggedActivitiesDistance  940 non-null    float64\n",
            " 6   VeryActiveDistance        940 non-null    float64\n",
            " 7   ModeratelyActiveDistance  940 non-null    float64\n",
            " 8   LightActiveDistance       940 non-null    float64\n",
            " 9   SedentaryActiveDistance   940 non-null    float64\n",
            " 10  VeryActiveMinutes         940 non-null    int64  \n",
            " 11  FairlyActiveMinutes       940 non-null    int64  \n",
            " 12  LightlyActiveMinutes      940 non-null    int64  \n",
            " 13  SedentaryMinutes          940 non-null    int64  \n",
            " 14  Calories                  940 non-null    int64  \n",
            "dtypes: float64(7), int64(7), object(1)\n",
            "memory usage: 110.3+ KB\n"
          ]
        }
      ]
    },
    {
      "cell_type": "markdown",
      "source": [
        "# Проверете дали има missing values во датасетот. Направете табела со проценти за да направите подетална анализа. \n",
        "\n",
        "# Визуелизирајте ги за подобри заклучоци. Доколку има празни полињата, за секоја колона одлучете како ќе се справите со нив. "
      ],
      "metadata": {
        "id": "QQiA53yzwJ_g"
      }
    },
    {
      "cell_type": "code",
      "source": [
        "data.isnull().sum()"
      ],
      "metadata": {
        "colab": {
          "base_uri": "https://localhost:8080/"
        },
        "id": "UHAgoxh7yGly",
        "outputId": "2e8437c5-54d3-4172-90a5-8a48b9c88246"
      },
      "execution_count": 6,
      "outputs": [
        {
          "output_type": "execute_result",
          "data": {
            "text/plain": [
              "Id                          0\n",
              "ActivityDate                0\n",
              "TotalSteps                  0\n",
              "TotalDistance               0\n",
              "TrackerDistance             0\n",
              "LoggedActivitiesDistance    0\n",
              "VeryActiveDistance          0\n",
              "ModeratelyActiveDistance    0\n",
              "LightActiveDistance         0\n",
              "SedentaryActiveDistance     0\n",
              "VeryActiveMinutes           0\n",
              "FairlyActiveMinutes         0\n",
              "LightlyActiveMinutes        0\n",
              "SedentaryMinutes            0\n",
              "Calories                    0\n",
              "dtype: int64"
            ]
          },
          "metadata": {},
          "execution_count": 6
        }
      ]
    },
    {
      "cell_type": "markdown",
      "source": [
        "# Колоната што има информации за датум, променете ја да биде од тип Date.\n"
      ],
      "metadata": {
        "id": "NeZcfEQmv2xk"
      }
    },
    {
      "cell_type": "code",
      "source": [
        "data['ActivityDate']=pd.to_datetime(data['ActivityDate'])\n",
        "data['ActivityDate']"
      ],
      "metadata": {
        "colab": {
          "base_uri": "https://localhost:8080/"
        },
        "id": "a0yhwJO71Lbe",
        "outputId": "2ba30dcc-63d7-4a96-eac4-912df50a148d"
      },
      "execution_count": 7,
      "outputs": [
        {
          "output_type": "execute_result",
          "data": {
            "text/plain": [
              "0     2016-04-12\n",
              "1     2016-04-13\n",
              "2     2016-04-14\n",
              "3     2016-04-15\n",
              "4     2016-04-16\n",
              "         ...    \n",
              "935   2016-05-08\n",
              "936   2016-05-09\n",
              "937   2016-05-10\n",
              "938   2016-05-11\n",
              "939   2016-05-12\n",
              "Name: ActivityDate, Length: 940, dtype: datetime64[ns]"
            ]
          },
          "metadata": {},
          "execution_count": 7
        }
      ]
    },
    {
      "cell_type": "code",
      "source": [
        "data.dtypes"
      ],
      "metadata": {
        "colab": {
          "base_uri": "https://localhost:8080/"
        },
        "id": "jvtPZ8jnqAkk",
        "outputId": "5b49d11a-f6d0-469a-b87d-c250a8ba2da8"
      },
      "execution_count": 8,
      "outputs": [
        {
          "output_type": "execute_result",
          "data": {
            "text/plain": [
              "Id                                   int64\n",
              "ActivityDate                datetime64[ns]\n",
              "TotalSteps                           int64\n",
              "TotalDistance                      float64\n",
              "TrackerDistance                    float64\n",
              "LoggedActivitiesDistance           float64\n",
              "VeryActiveDistance                 float64\n",
              "ModeratelyActiveDistance           float64\n",
              "LightActiveDistance                float64\n",
              "SedentaryActiveDistance            float64\n",
              "VeryActiveMinutes                    int64\n",
              "FairlyActiveMinutes                  int64\n",
              "LightlyActiveMinutes                 int64\n",
              "SedentaryMinutes                     int64\n",
              "Calories                             int64\n",
              "dtype: object"
            ]
          },
          "metadata": {},
          "execution_count": 8
        }
      ]
    },
    {
      "cell_type": "code",
      "source": [
        "\n",
        "# Додадете нова колона: TotalMinutes.\n"
      ],
      "metadata": {
        "id": "7mG5F9Fbwc3O"
      },
      "execution_count": null,
      "outputs": []
    },
    {
      "cell_type": "code",
      "source": [
        "data['TotalMinutes']=(data['VeryActiveMinutes'] + data['FairlyActiveMinutes'] + data['LightlyActiveMinutes'] + data['SedentaryMinutes'])\n",
        "data['TotalMinutes']"
      ],
      "metadata": {
        "colab": {
          "base_uri": "https://localhost:8080/"
        },
        "id": "YCsFCktv1pKc",
        "outputId": "213f430d-0df6-421e-b8f7-e0796cae5008"
      },
      "execution_count": 9,
      "outputs": [
        {
          "output_type": "execute_result",
          "data": {
            "text/plain": [
              "0      1094\n",
              "1      1033\n",
              "2      1440\n",
              "3       998\n",
              "4      1040\n",
              "       ... \n",
              "935    1440\n",
              "936    1440\n",
              "937    1440\n",
              "938    1440\n",
              "939     931\n",
              "Name: TotalMinutes, Length: 940, dtype: int64"
            ]
          },
          "metadata": {},
          "execution_count": 9
        }
      ]
    },
    {
      "cell_type": "markdown",
      "source": [
        "# Извадете информации за мерките за дескриптивна статистика."
      ],
      "metadata": {
        "id": "9pBX-7fFwpaA"
      }
    },
    {
      "cell_type": "code",
      "source": [
        "data.describe()"
      ],
      "metadata": {
        "colab": {
          "base_uri": "https://localhost:8080/",
          "height": 364
        },
        "id": "pxk5bhxo2sQX",
        "outputId": "29657bbb-9334-4fe8-b4ed-ca6c4ec72f3b"
      },
      "execution_count": 10,
      "outputs": [
        {
          "output_type": "execute_result",
          "data": {
            "text/plain": [
              "                 Id    TotalSteps  TotalDistance  TrackerDistance  \\\n",
              "count  9.400000e+02    940.000000     940.000000       940.000000   \n",
              "mean   4.855407e+09   7637.910638       5.489702         5.475351   \n",
              "std    2.424805e+09   5087.150742       3.924606         3.907276   \n",
              "min    1.503960e+09      0.000000       0.000000         0.000000   \n",
              "25%    2.320127e+09   3789.750000       2.620000         2.620000   \n",
              "50%    4.445115e+09   7405.500000       5.245000         5.245000   \n",
              "75%    6.962181e+09  10727.000000       7.712500         7.710000   \n",
              "max    8.877689e+09  36019.000000      28.030001        28.030001   \n",
              "\n",
              "       LoggedActivitiesDistance  VeryActiveDistance  ModeratelyActiveDistance  \\\n",
              "count                940.000000          940.000000                940.000000   \n",
              "mean                   0.108171            1.502681                  0.567543   \n",
              "std                    0.619897            2.658941                  0.883580   \n",
              "min                    0.000000            0.000000                  0.000000   \n",
              "25%                    0.000000            0.000000                  0.000000   \n",
              "50%                    0.000000            0.210000                  0.240000   \n",
              "75%                    0.000000            2.052500                  0.800000   \n",
              "max                    4.942142           21.920000                  6.480000   \n",
              "\n",
              "       LightActiveDistance  SedentaryActiveDistance  VeryActiveMinutes  \\\n",
              "count           940.000000               940.000000         940.000000   \n",
              "mean              3.340819                 0.001606          21.164894   \n",
              "std               2.040655                 0.007346          32.844803   \n",
              "min               0.000000                 0.000000           0.000000   \n",
              "25%               1.945000                 0.000000           0.000000   \n",
              "50%               3.365000                 0.000000           4.000000   \n",
              "75%               4.782500                 0.000000          32.000000   \n",
              "max              10.710000                 0.110000         210.000000   \n",
              "\n",
              "       FairlyActiveMinutes  LightlyActiveMinutes  SedentaryMinutes  \\\n",
              "count           940.000000            940.000000        940.000000   \n",
              "mean             13.564894            192.812766        991.210638   \n",
              "std              19.987404            109.174700        301.267437   \n",
              "min               0.000000              0.000000          0.000000   \n",
              "25%               0.000000            127.000000        729.750000   \n",
              "50%               6.000000            199.000000       1057.500000   \n",
              "75%              19.000000            264.000000       1229.500000   \n",
              "max             143.000000            518.000000       1440.000000   \n",
              "\n",
              "          Calories  TotalMinutes  \n",
              "count   940.000000    940.000000  \n",
              "mean   2303.609574   1218.753191  \n",
              "std     718.166862    265.931767  \n",
              "min       0.000000      2.000000  \n",
              "25%    1828.500000    989.750000  \n",
              "50%    2134.000000   1440.000000  \n",
              "75%    2793.250000   1440.000000  \n",
              "max    4900.000000   1440.000000  "
            ],
            "text/html": [
              "\n",
              "  <div id=\"df-8e95a915-2f04-4c1c-981c-753873e03c67\">\n",
              "    <div class=\"colab-df-container\">\n",
              "      <div>\n",
              "<style scoped>\n",
              "    .dataframe tbody tr th:only-of-type {\n",
              "        vertical-align: middle;\n",
              "    }\n",
              "\n",
              "    .dataframe tbody tr th {\n",
              "        vertical-align: top;\n",
              "    }\n",
              "\n",
              "    .dataframe thead th {\n",
              "        text-align: right;\n",
              "    }\n",
              "</style>\n",
              "<table border=\"1\" class=\"dataframe\">\n",
              "  <thead>\n",
              "    <tr style=\"text-align: right;\">\n",
              "      <th></th>\n",
              "      <th>Id</th>\n",
              "      <th>TotalSteps</th>\n",
              "      <th>TotalDistance</th>\n",
              "      <th>TrackerDistance</th>\n",
              "      <th>LoggedActivitiesDistance</th>\n",
              "      <th>VeryActiveDistance</th>\n",
              "      <th>ModeratelyActiveDistance</th>\n",
              "      <th>LightActiveDistance</th>\n",
              "      <th>SedentaryActiveDistance</th>\n",
              "      <th>VeryActiveMinutes</th>\n",
              "      <th>FairlyActiveMinutes</th>\n",
              "      <th>LightlyActiveMinutes</th>\n",
              "      <th>SedentaryMinutes</th>\n",
              "      <th>Calories</th>\n",
              "      <th>TotalMinutes</th>\n",
              "    </tr>\n",
              "  </thead>\n",
              "  <tbody>\n",
              "    <tr>\n",
              "      <th>count</th>\n",
              "      <td>9.400000e+02</td>\n",
              "      <td>940.000000</td>\n",
              "      <td>940.000000</td>\n",
              "      <td>940.000000</td>\n",
              "      <td>940.000000</td>\n",
              "      <td>940.000000</td>\n",
              "      <td>940.000000</td>\n",
              "      <td>940.000000</td>\n",
              "      <td>940.000000</td>\n",
              "      <td>940.000000</td>\n",
              "      <td>940.000000</td>\n",
              "      <td>940.000000</td>\n",
              "      <td>940.000000</td>\n",
              "      <td>940.000000</td>\n",
              "      <td>940.000000</td>\n",
              "    </tr>\n",
              "    <tr>\n",
              "      <th>mean</th>\n",
              "      <td>4.855407e+09</td>\n",
              "      <td>7637.910638</td>\n",
              "      <td>5.489702</td>\n",
              "      <td>5.475351</td>\n",
              "      <td>0.108171</td>\n",
              "      <td>1.502681</td>\n",
              "      <td>0.567543</td>\n",
              "      <td>3.340819</td>\n",
              "      <td>0.001606</td>\n",
              "      <td>21.164894</td>\n",
              "      <td>13.564894</td>\n",
              "      <td>192.812766</td>\n",
              "      <td>991.210638</td>\n",
              "      <td>2303.609574</td>\n",
              "      <td>1218.753191</td>\n",
              "    </tr>\n",
              "    <tr>\n",
              "      <th>std</th>\n",
              "      <td>2.424805e+09</td>\n",
              "      <td>5087.150742</td>\n",
              "      <td>3.924606</td>\n",
              "      <td>3.907276</td>\n",
              "      <td>0.619897</td>\n",
              "      <td>2.658941</td>\n",
              "      <td>0.883580</td>\n",
              "      <td>2.040655</td>\n",
              "      <td>0.007346</td>\n",
              "      <td>32.844803</td>\n",
              "      <td>19.987404</td>\n",
              "      <td>109.174700</td>\n",
              "      <td>301.267437</td>\n",
              "      <td>718.166862</td>\n",
              "      <td>265.931767</td>\n",
              "    </tr>\n",
              "    <tr>\n",
              "      <th>min</th>\n",
              "      <td>1.503960e+09</td>\n",
              "      <td>0.000000</td>\n",
              "      <td>0.000000</td>\n",
              "      <td>0.000000</td>\n",
              "      <td>0.000000</td>\n",
              "      <td>0.000000</td>\n",
              "      <td>0.000000</td>\n",
              "      <td>0.000000</td>\n",
              "      <td>0.000000</td>\n",
              "      <td>0.000000</td>\n",
              "      <td>0.000000</td>\n",
              "      <td>0.000000</td>\n",
              "      <td>0.000000</td>\n",
              "      <td>0.000000</td>\n",
              "      <td>2.000000</td>\n",
              "    </tr>\n",
              "    <tr>\n",
              "      <th>25%</th>\n",
              "      <td>2.320127e+09</td>\n",
              "      <td>3789.750000</td>\n",
              "      <td>2.620000</td>\n",
              "      <td>2.620000</td>\n",
              "      <td>0.000000</td>\n",
              "      <td>0.000000</td>\n",
              "      <td>0.000000</td>\n",
              "      <td>1.945000</td>\n",
              "      <td>0.000000</td>\n",
              "      <td>0.000000</td>\n",
              "      <td>0.000000</td>\n",
              "      <td>127.000000</td>\n",
              "      <td>729.750000</td>\n",
              "      <td>1828.500000</td>\n",
              "      <td>989.750000</td>\n",
              "    </tr>\n",
              "    <tr>\n",
              "      <th>50%</th>\n",
              "      <td>4.445115e+09</td>\n",
              "      <td>7405.500000</td>\n",
              "      <td>5.245000</td>\n",
              "      <td>5.245000</td>\n",
              "      <td>0.000000</td>\n",
              "      <td>0.210000</td>\n",
              "      <td>0.240000</td>\n",
              "      <td>3.365000</td>\n",
              "      <td>0.000000</td>\n",
              "      <td>4.000000</td>\n",
              "      <td>6.000000</td>\n",
              "      <td>199.000000</td>\n",
              "      <td>1057.500000</td>\n",
              "      <td>2134.000000</td>\n",
              "      <td>1440.000000</td>\n",
              "    </tr>\n",
              "    <tr>\n",
              "      <th>75%</th>\n",
              "      <td>6.962181e+09</td>\n",
              "      <td>10727.000000</td>\n",
              "      <td>7.712500</td>\n",
              "      <td>7.710000</td>\n",
              "      <td>0.000000</td>\n",
              "      <td>2.052500</td>\n",
              "      <td>0.800000</td>\n",
              "      <td>4.782500</td>\n",
              "      <td>0.000000</td>\n",
              "      <td>32.000000</td>\n",
              "      <td>19.000000</td>\n",
              "      <td>264.000000</td>\n",
              "      <td>1229.500000</td>\n",
              "      <td>2793.250000</td>\n",
              "      <td>1440.000000</td>\n",
              "    </tr>\n",
              "    <tr>\n",
              "      <th>max</th>\n",
              "      <td>8.877689e+09</td>\n",
              "      <td>36019.000000</td>\n",
              "      <td>28.030001</td>\n",
              "      <td>28.030001</td>\n",
              "      <td>4.942142</td>\n",
              "      <td>21.920000</td>\n",
              "      <td>6.480000</td>\n",
              "      <td>10.710000</td>\n",
              "      <td>0.110000</td>\n",
              "      <td>210.000000</td>\n",
              "      <td>143.000000</td>\n",
              "      <td>518.000000</td>\n",
              "      <td>1440.000000</td>\n",
              "      <td>4900.000000</td>\n",
              "      <td>1440.000000</td>\n",
              "    </tr>\n",
              "  </tbody>\n",
              "</table>\n",
              "</div>\n",
              "      <button class=\"colab-df-convert\" onclick=\"convertToInteractive('df-8e95a915-2f04-4c1c-981c-753873e03c67')\"\n",
              "              title=\"Convert this dataframe to an interactive table.\"\n",
              "              style=\"display:none;\">\n",
              "        \n",
              "  <svg xmlns=\"http://www.w3.org/2000/svg\" height=\"24px\"viewBox=\"0 0 24 24\"\n",
              "       width=\"24px\">\n",
              "    <path d=\"M0 0h24v24H0V0z\" fill=\"none\"/>\n",
              "    <path d=\"M18.56 5.44l.94 2.06.94-2.06 2.06-.94-2.06-.94-.94-2.06-.94 2.06-2.06.94zm-11 1L8.5 8.5l.94-2.06 2.06-.94-2.06-.94L8.5 2.5l-.94 2.06-2.06.94zm10 10l.94 2.06.94-2.06 2.06-.94-2.06-.94-.94-2.06-.94 2.06-2.06.94z\"/><path d=\"M17.41 7.96l-1.37-1.37c-.4-.4-.92-.59-1.43-.59-.52 0-1.04.2-1.43.59L10.3 9.45l-7.72 7.72c-.78.78-.78 2.05 0 2.83L4 21.41c.39.39.9.59 1.41.59.51 0 1.02-.2 1.41-.59l7.78-7.78 2.81-2.81c.8-.78.8-2.07 0-2.86zM5.41 20L4 18.59l7.72-7.72 1.47 1.35L5.41 20z\"/>\n",
              "  </svg>\n",
              "      </button>\n",
              "      \n",
              "  <style>\n",
              "    .colab-df-container {\n",
              "      display:flex;\n",
              "      flex-wrap:wrap;\n",
              "      gap: 12px;\n",
              "    }\n",
              "\n",
              "    .colab-df-convert {\n",
              "      background-color: #E8F0FE;\n",
              "      border: none;\n",
              "      border-radius: 50%;\n",
              "      cursor: pointer;\n",
              "      display: none;\n",
              "      fill: #1967D2;\n",
              "      height: 32px;\n",
              "      padding: 0 0 0 0;\n",
              "      width: 32px;\n",
              "    }\n",
              "\n",
              "    .colab-df-convert:hover {\n",
              "      background-color: #E2EBFA;\n",
              "      box-shadow: 0px 1px 2px rgba(60, 64, 67, 0.3), 0px 1px 3px 1px rgba(60, 64, 67, 0.15);\n",
              "      fill: #174EA6;\n",
              "    }\n",
              "\n",
              "    [theme=dark] .colab-df-convert {\n",
              "      background-color: #3B4455;\n",
              "      fill: #D2E3FC;\n",
              "    }\n",
              "\n",
              "    [theme=dark] .colab-df-convert:hover {\n",
              "      background-color: #434B5C;\n",
              "      box-shadow: 0px 1px 3px 1px rgba(0, 0, 0, 0.15);\n",
              "      filter: drop-shadow(0px 1px 2px rgba(0, 0, 0, 0.3));\n",
              "      fill: #FFFFFF;\n",
              "    }\n",
              "  </style>\n",
              "\n",
              "      <script>\n",
              "        const buttonEl =\n",
              "          document.querySelector('#df-8e95a915-2f04-4c1c-981c-753873e03c67 button.colab-df-convert');\n",
              "        buttonEl.style.display =\n",
              "          google.colab.kernel.accessAllowed ? 'block' : 'none';\n",
              "\n",
              "        async function convertToInteractive(key) {\n",
              "          const element = document.querySelector('#df-8e95a915-2f04-4c1c-981c-753873e03c67');\n",
              "          const dataTable =\n",
              "            await google.colab.kernel.invokeFunction('convertToInteractive',\n",
              "                                                     [key], {});\n",
              "          if (!dataTable) return;\n",
              "\n",
              "          const docLinkHtml = 'Like what you see? Visit the ' +\n",
              "            '<a target=\"_blank\" href=https://colab.research.google.com/notebooks/data_table.ipynb>data table notebook</a>'\n",
              "            + ' to learn more about interactive tables.';\n",
              "          element.innerHTML = '';\n",
              "          dataTable['output_type'] = 'display_data';\n",
              "          await google.colab.output.renderOutput(dataTable, element);\n",
              "          const docLink = document.createElement('div');\n",
              "          docLink.innerHTML = docLinkHtml;\n",
              "          element.appendChild(docLink);\n",
              "        }\n",
              "      </script>\n",
              "    </div>\n",
              "  </div>\n",
              "  "
            ]
          },
          "metadata": {},
          "execution_count": 10
        }
      ]
    },
    {
      "cell_type": "markdown",
      "source": [
        "\n",
        "# Анализирајте го односот помеѓу бројот на согорени калории и чекори во еден ден.\n"
      ],
      "metadata": {
        "id": "HHYUDiINwsbe"
      }
    },
    {
      "cell_type": "code",
      "source": [
        "sns.lmplot(x='TotalSteps',\n",
        "           y='Calories',\n",
        "           data=data,\n",
        "           palette='y',\n",
        "           line_kws={'color': 'red'})\n",
        "plt.xticks(rotation=45)\n",
        "plt.title('Calories & Steps Data')\n",
        "plt.show();"
      ],
      "metadata": {
        "colab": {
          "base_uri": "https://localhost:8080/",
          "height": 405
        },
        "id": "rkwNbzlO2zCJ",
        "outputId": "1aeb9f90-b6c6-4678-a661-205541b6311f"
      },
      "execution_count": 11,
      "outputs": [
        {
          "output_type": "display_data",
          "data": {
            "text/plain": [
              "<Figure size 360x360 with 1 Axes>"
            ],
            "image/png": "[encoded data removed]"
          },
          "metadata": {
            "needs_background": "light"
          }
        }
      ]
    },
    {
      "cell_type": "markdown",
      "source": [
        "# Направете анализа на просечните активни минути во еден ден. Кои заклучоци може да ги донесете?\n"
      ],
      "metadata": {
        "id": "ifIv18nGw5DC"
      }
    },
    {
      "cell_type": "code",
      "source": [
        "plt.figure(figsize=(10,7))\n",
        "\n",
        "plt.pie([np.mean(data['VeryActiveMinutes']), np.mean(data['FairlyActiveMinutes']), np.mean(data['LightlyActiveMinutes'])],\n",
        "        labels = ['Very Active Minutes', 'Faily Active Minutes', 'Lightly Active Minutes'], \n",
        "        autopct='%1.2f%%');"
      ],
      "metadata": {
        "colab": {
          "base_uri": "https://localhost:8080/",
          "height": 411
        },
        "id": "nAmtD5dk5TDR",
        "outputId": "d2eeb508-639e-4a06-b037-322692e7c916"
      },
      "execution_count": 15,
      "outputs": [
        {
          "output_type": "display_data",
          "data": {
            "text/plain": [
              "<Figure size 720x504 with 1 Axes>"
            ],
            "image/png": "[encoded data removed]"
          },
          "metadata": {}
        }
      ]
    },
    {
      "cell_type": "code",
      "source": [
        "plt.figure(figsize=[20,6])\n",
        "sns.barplot(data['ActivityDate'], data['TotalMinutes'])\n",
        "plt.xticks(rotation=90)\n",
        "plt.show()"
      ],
      "metadata": {
        "colab": {
          "base_uri": "https://localhost:8080/",
          "height": 546
        },
        "id": "yKPhKxJyyQkm",
        "outputId": "1ff762ab-790c-4dad-cfb7-aeacb498e322"
      },
      "execution_count": 13,
      "outputs": [
        {
          "output_type": "display_data",
          "data": {
            "text/plain": [
              "<Figure size 1440x432 with 1 Axes>"
            ],
            "image/png": "[encoded data removed]"
          },
          "metadata": {
            "needs_background": "light"
          }
        }
      ]
    },
    {
      "cell_type": "code",
      "source": [
        "plt.figure(figsize=(25,15))\n",
        "labels=['VeryActiveMinutes', 'FairlyActiveMinutes', 'LightlyActiveMinutes', 'SedentaryMinutes']\n",
        "colors=['blue', 'red', 'yellow', 'magenta']\n",
        "explode = [0, 0, 0, 0]\n",
        "values = [data[\"VeryActiveMinutes\"].mean(), data['FairlyActiveMinutes'].mean(), data['LightlyActiveMinutes'].mean(), data['SedentaryMinutes'].mean()]\n",
        "plt.pie(values, labels=labels, colors=colors, explode=explode, autopct='%1.1f%%', wedgeprops = { 'linewidth' : 3, 'edgecolor' : 'white' } ,shadow=True)\n",
        "plt.legend(['VeryActiveMinutes', 'FairlyActiveMinutes', 'LightlyActiveMinutes'], loc=3)\n",
        "plt.show()"
      ],
      "metadata": {
        "colab": {
          "base_uri": "https://localhost:8080/",
          "height": 846
        },
        "id": "g_ngiDk85ahh",
        "outputId": "523da6bf-d6f2-426e-ea8c-0e83828d287c"
      },
      "execution_count": 14,
      "outputs": [
        {
          "output_type": "display_data",
          "data": {
            "text/plain": [
              "<Figure size 1800x1080 with 1 Axes>"
            ],
            "image/png": "[encoded data removed]"
          },
          "metadata": {}
        }
      ]
    },
    {
      "cell_type": "markdown",
      "source": [
        "# Додадете колона Day.\n"
      ],
      "metadata": {
        "id": "CIaZPrcvxMK4"
      }
    },
    {
      "cell_type": "code",
      "source": [
        "data['Day'] = data['ActivityDate'].dt.dayofweek\n",
        "data['Day']"
      ],
      "metadata": {
        "colab": {
          "base_uri": "https://localhost:8080/"
        },
        "id": "Bj34u2-UD4ib",
        "outputId": "e51b59e2-ca21-428d-85bf-3e7a7337d528"
      },
      "execution_count": 16,
      "outputs": [
        {
          "output_type": "execute_result",
          "data": {
            "text/plain": [
              "0      1\n",
              "1      2\n",
              "2      3\n",
              "3      4\n",
              "4      5\n",
              "      ..\n",
              "935    6\n",
              "936    0\n",
              "937    1\n",
              "938    2\n",
              "939    3\n",
              "Name: Day, Length: 940, dtype: int64"
            ]
          },
          "metadata": {},
          "execution_count": 16
        }
      ]
    },
    {
      "cell_type": "code",
      "source": [
        "data['Dayname'] = data['ActivityDate'].dt.day_name()\n",
        "data['Dayname']"
      ],
      "metadata": {
        "colab": {
          "base_uri": "https://localhost:8080/"
        },
        "id": "ame3uZYkzf_a",
        "outputId": "e95bf648-0e9f-4f27-ae3b-dc54b1cd453c"
      },
      "execution_count": 17,
      "outputs": [
        {
          "output_type": "execute_result",
          "data": {
            "text/plain": [
              "0        Tuesday\n",
              "1      Wednesday\n",
              "2       Thursday\n",
              "3         Friday\n",
              "4       Saturday\n",
              "         ...    \n",
              "935       Sunday\n",
              "936       Monday\n",
              "937      Tuesday\n",
              "938    Wednesday\n",
              "939     Thursday\n",
              "Name: Dayname, Length: 940, dtype: object"
            ]
          },
          "metadata": {},
          "execution_count": 17
        }
      ]
    },
    {
      "cell_type": "markdown",
      "source": [
        "# За секој ден од неделата направете анализа на very active, fairly active и lightly active minutes.\n",
        "\n"
      ],
      "metadata": {
        "id": "jKK15rl_xRax"
      }
    },
    {
      "cell_type": "code",
      "source": [
        "plt.figure(figsize=[20,5])\n",
        "\n",
        "vam = subplot(1,3,1)\n",
        "plt.bar(data['Dayname'], data['VeryActiveMinutes'], ec='black', color='pink')\n",
        "plt.title('Very Active Analysis')\n",
        "plt.xlabel('VeryActive Minutes')\n",
        "plt.xticks(rotation=45)\n",
        "\n",
        "fam = subplot(1,3,2)\n",
        "plt.bar(data['Dayname'], data['FairlyActiveMinutes'], color='green', ec='black')\n",
        "plt.title('Fairly Active Analysis')\n",
        "plt.xlabel('Fairly Active Minutes')\n",
        "plt.xticks(rotation=45)\n",
        "\n",
        "lam = subplot(1,3,3)\n",
        "plt.bar(data['Dayname'], data['LightlyActiveMinutes'], color='blue', ec='black')\n",
        "plt.title('Lightly Active Analysis')\n",
        "plt.xlabel('Lightly Active Minutes')\n",
        "plt.xticks(rotation=45);"
      ],
      "metadata": {
        "colab": {
          "base_uri": "https://localhost:8080/",
          "height": 388
        },
        "id": "U4P3nVZo_iYS",
        "outputId": "37dbbb84-ed2c-4f4e-f817-b87ba110e172"
      },
      "execution_count": 18,
      "outputs": [
        {
          "output_type": "display_data",
          "data": {
            "text/plain": [
              "<Figure size 1440x360 with 3 Axes>"
            ],
            "image/png": "[encoded data removed]"
          },
          "metadata": {
            "needs_background": "light"
          }
        }
      ]
    },
    {
      "cell_type": "markdown",
      "source": [
        "# За секој ден од неделата разгледајте ги неактивните минути.\n"
      ],
      "metadata": {
        "id": "ybQxNKajxX0N"
      }
    },
    {
      "cell_type": "code",
      "source": [
        "plt.figure(figsize=[10,5])\n",
        "plt.bar(data['Dayname'],data['SedentaryMinutes'], color='yellow')\n",
        "plt.title('Sedentary Analysis')\n",
        "plt.xlabel('Days of week')\n",
        "plt.grid()\n",
        "plt.show();"
      ],
      "metadata": {
        "colab": {
          "base_uri": "https://localhost:8080/",
          "height": 350
        },
        "id": "y6u8M1ui5Zxn",
        "outputId": "ce9c2239-187e-40be-c4bd-b775a0980a45"
      },
      "execution_count": 19,
      "outputs": [
        {
          "output_type": "display_data",
          "data": {
            "text/plain": [
              "<Figure size 720x360 with 1 Axes>"
            ],
            "image/png": "[encoded data removed]"
          },
          "metadata": {
            "needs_background": "light"
          }
        }
      ]
    },
    {
      "cell_type": "code",
      "source": [
        "data.groupby('Dayname')['SedentaryMinutes'].mean()\n",
        "# data['SedentaryMinutes'].value_counts()"
      ],
      "metadata": {
        "colab": {
          "base_uri": "https://localhost:8080/"
        },
        "id": "ZIDbJS729Kr7",
        "outputId": "bda4a1f4-0e32-4e8a-82be-3bc70a5f4761"
      },
      "execution_count": 20,
      "outputs": [
        {
          "output_type": "execute_result",
          "data": {
            "text/plain": [
              "Dayname\n",
              "Friday       1000.309524\n",
              "Monday       1027.941667\n",
              "Saturday      964.282258\n",
              "Sunday        990.256198\n",
              "Thursday      961.993197\n",
              "Tuesday      1007.361842\n",
              "Wednesday     989.480000\n",
              "Name: SedentaryMinutes, dtype: float64"
            ]
          },
          "metadata": {},
          "execution_count": 20
        }
      ]
    },
    {
      "cell_type": "markdown",
      "source": [
        "# Анализирајте го бројот на согорени калории за секој ден од неделата."
      ],
      "metadata": {
        "id": "bN1dD1eNxhYf"
      }
    },
    {
      "cell_type": "code",
      "source": [
        "labels = data['Dayname'].value_counts(ascending = False).index\n",
        "# labels = 'Friday', 'Monday', 'Saturday', 'Sunday', 'Thursday', 'Tuesday', 'Wednesday'\n",
        "sizes = data.groupby('Dayname')['Calories'].sum().sort_values(ascending = False)\n",
        "colors = ['blue', 'yellow', 'lightskyblue', 'lightcoral', 'orange', 'pink', 'red']\n",
        "# explode = [0, 0, 0, 0, 0,0.1,0]\n",
        "plt.pie(sizes, labels=labels, colors=colors, autopct='%1.1f%%', shadow=True)\n",
        "plt.title('Analisys Calories by Day')\n",
        "plt.show()"
      ],
      "metadata": {
        "colab": {
          "base_uri": "https://localhost:8080/",
          "height": 264
        },
        "id": "DXqvdFUOBLcR",
        "outputId": "5e7d0ce5-38f8-48bb-ecca-1acd2cbbfbc8"
      },
      "execution_count": 21,
      "outputs": [
        {
          "output_type": "display_data",
          "data": {
            "text/plain": [
              "<Figure size 432x288 with 1 Axes>"
            ],
            "image/png": "[encoded data removed]"
          },
          "metadata": {}
        }
      ]
    },
    {
      "cell_type": "markdown",
      "source": [
        "# Кои се финалните заклучоци кои може да ги донесете по сите анализи кои ги направивте?"
      ],
      "metadata": {
        "id": "HU5a6662xdf-"
      }
    }
  ]
}